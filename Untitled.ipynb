{
 "cells": [
  {
   "cell_type": "code",
   "execution_count": 1,
   "metadata": {},
   "outputs": [],
   "source": [
    "import numpy as np"
   ]
  },
  {
   "cell_type": "code",
   "execution_count": null,
   "metadata": {},
   "outputs": [],
   "source": []
  },
  {
   "cell_type": "code",
   "execution_count": null,
   "metadata": {},
   "outputs": [],
   "source": []
  },
  {
   "cell_type": "code",
   "execution_count": 3,
   "metadata": {},
   "outputs": [],
   "source": [
    "import gym\n",
    "from gym import error, spaces, utils\n",
    "from gym.utils import seeding\n",
    "\n",
    "class Connect4Env(gym.Env):\n",
    "    metadata = {'render.modes': ['human']}\n",
    "    \n",
    "    def __init__(self, rows=6, columns=7):\n",
    "        self.rows, self.columns = rows, columns\n",
    "        self.reset()\n",
    "        \n",
    "    def step(self, action):\n",
    "        if self.is_draw():\n",
    "            done=True\n",
    "        elif self.calc_winner():\n",
    "            \n",
    "        return observation, reward, done, info\n",
    "    \n",
    "        \n",
    "        \n",
    "    def reset(self):\n",
    "        self.board = np.zeros((self.rows, self.columns), dtype=np.uint8)\n",
    "        self.action_space = np.arange(7)\n",
    "    \n",
    "    def render(self, mode='human'):\n",
    "        print(board)\n",
    "    \n",
    "    def close(self):\n",
    "        pass\n",
    "    \n",
    "    \n",
    "    def init_state(rows=6, columns=7):\n",
    "        return np.zeros((rows, columns), dtype=np.int8)\n",
    "    def calc_legal_actions(state):\n",
    "        return np.where((state==0).any(axis=0))[0]\n",
    "\n",
    "    def render(state):\n",
    "        plt.imshow(state*2./3., vmin=-1, vmax=1, cmap='seismic')\n",
    "        plt.colorbar()\n",
    "        plt.ylim(-0.5, 5.5)\n",
    "        plt.xticks(np.arange(7)+.5)\n",
    "        plt.yticks(np.arange(6)+.5)\n",
    "        plt.grid()\n",
    "\n",
    "    def put(state, action, player):\n",
    "        row = np.where(state[:, action]==0)[0].min()\n",
    "        ns = state.copy()\n",
    "        ns[row, action] = player\n",
    "        return ns\n",
    "\n",
    "    def calc_winner(state):\n",
    "        win = state[:, :-3]+state[:, 1:-2]+state[:, 2:-1]+state[:, 3:]\n",
    "        if (np.abs(win)==4).any():\n",
    "            return np.sign(win[np.where(np.abs(win)==4)])[0]\n",
    "\n",
    "        win = state[:-3, :]+state[1:-2, :]+state[2:-1, :]+state[3:, :]\n",
    "        if (np.abs(win)==4).any():\n",
    "            return np.sign(win[np.where(np.abs(win)==4)])[0]\n",
    "\n",
    "        win = state[:-3, :-3]+state[1:-2, 1:-2]+state[2:-1, 2:-1]+state[3:, 3:]\n",
    "        if (np.abs(win)==4).any():\n",
    "            return np.sign(win[np.where(np.abs(win)==4)])[0]\n",
    "\n",
    "        win = state[3:, :-3]+state[2:-1, 1:-2]+state[1:-2, 2:-1]+state[:-3, 3:]\n",
    "        if (np.abs(win)==4).any():\n",
    "            return np.sign(win[np.where(np.abs(win)==4)])[0]\n",
    "        return 0\n",
    "\n",
    "    def is_draw(state):\n",
    "        return (state!=0).all()\n",
    "\n",
    "    def is_done(state):\n",
    "        winner = calc_winner(state)\n",
    "        print(winner)\n",
    "        return is_draw(state) or winner != 0, winner"
   ]
  },
  {
   "cell_type": "code",
   "execution_count": null,
   "metadata": {},
   "outputs": [],
   "source": []
  },
  {
   "cell_type": "code",
   "execution_count": null,
   "metadata": {},
   "outputs": [],
   "source": []
  },
  {
   "cell_type": "code",
   "execution_count": null,
   "metadata": {},
   "outputs": [],
   "source": []
  },
  {
   "cell_type": "code",
   "execution_count": null,
   "metadata": {},
   "outputs": [],
   "source": []
  },
  {
   "cell_type": "code",
   "execution_count": null,
   "metadata": {},
   "outputs": [],
   "source": []
  }
 ],
 "metadata": {
  "kernelspec": {
   "display_name": "Python 3",
   "language": "python",
   "name": "python3"
  },
  "language_info": {
   "codemirror_mode": {
    "name": "ipython",
    "version": 3
   },
   "file_extension": ".py",
   "mimetype": "text/x-python",
   "name": "python",
   "nbconvert_exporter": "python",
   "pygments_lexer": "ipython3",
   "version": "3.8.5"
  }
 },
 "nbformat": 4,
 "nbformat_minor": 4
}
